{
  "cells": [
    {
      "cell_type": "code",
      "metadata": {},
      "source": [
        "import os\n",
        "import pandas as pd\n",
        "\n",
        "from IPython.display import display\n",
        "import matplotlib.pyplot as plt\n",
        "import numpy as np\n",
        "from numpy.lib.stride_tricks import sliding_window_view\n",
        "\n",
        "import wfdb"
      ],
      "outputs": [],
      "execution_count": null
    },
    {
      "cell_type": "code",
      "metadata": {},
      "source": [
        "\n",
        "try:\n",
        "    from google.colab import drive\n",
        "    drive.mount('/content/drive')\n",
        "    base_directory = '/content/drive/My Drive/MSc Machine Learning/MSc Project'\n",
        "    os.chdir(base_directory)\n",
        "except ModuleNotFoundError:\n",
        "    base_directory = ''"
      ],
      "outputs": [],
      "execution_count": null
    },
    {
      "cell_type": "code",
      "metadata": {},
      "source": [
        "# # Make a download directory in your current working directory\n",
        "# cwd = os.getcwd()\n",
        "# dl_dir = os.path.join(cwd, \"mimic3wdb\")\n",
        "#\n",
        "# Download record\n",
        "# record_id = str(3141595)\n",
        "# wfdb.dl_database(\n",
        "#     \"mimic3wdb\", dl_dir=dl_dir, records=[f\"{record_id[:2]}/{record_id}/{record_id}\"]\n",
        "# )\n",
        "#\n",
        "# # Display the downloaded content in the folder\n",
        "# display(os.listdir(dl_dir))"
      ],
      "outputs": [],
      "execution_count": null
    },
    {
      "cell_type": "code",
      "metadata": {},
      "source": [
        "record_id = str(3141595)\n",
        "record = wfdb.rdrecord(f\"mimic3wdb/{record_id[:2]}/{record_id}/{record_id}\")"
      ],
      "outputs": [],
      "execution_count": null
    },
    {
      "cell_type": "code",
      "metadata": {},
      "source": [
        "bvp_index = record.sig_name.index(\"PLETH\")\n",
        "bvp_signal = record.p_signal[:, bvp_index]"
      ],
      "outputs": [],
      "execution_count": null
    },
    {
      "cell_type": "code",
      "metadata": {},
      "source": [
        "def split_into_contiguous_segments(signal):\n",
        "    \"\"\"\n",
        "    Signal is read from WFDB multi-segment record. Some segments don't contain signal of interest.\n",
        "    We split the continuous \"single\" record signal into contiguous subarrays.\n",
        "    :param signal:\n",
        "    :return:\n",
        "    \"\"\"\n",
        "    masked_signal = np.ma.masked_invalid(signal)\n",
        "    slices = np.ma.clump_unmasked(masked_signal)\n",
        "    contiguous_segments = [signal[slice] for slice in slices]\n",
        "    return contiguous_segments\n"
      ],
      "outputs": [],
      "execution_count": null
    },
    {
      "cell_type": "code",
      "metadata": {},
      "source": [
        "continugous_bvp_signals = split_into_contiguous_segments(bvp_signal)"
      ],
      "outputs": [],
      "execution_count": null
    },
    {
      "cell_type": "code",
      "metadata": {},
      "source": [
        "signal0 = continugous_bvp_signals[0]\n",
        "plt.plot(signal0)\n",
        "plt.show()"
      ],
      "outputs": [],
      "execution_count": null
    },
    {
      "cell_type": "code",
      "metadata": {},
      "source": [
        "step = 500\n",
        "view = sliding_window_view(signal0, 1000)[::step]"
      ],
      "outputs": [],
      "execution_count": null
    },
    {
      "cell_type": "code",
      "metadata": {},
      "source": [
        "for window in view[:20]:\n",
        "    plt.plot(window)\n",
        "    plt.show()\n",
        "# %%\n",
        "np.array_equal(view[10], signal0[10:1010])"
      ],
      "outputs": [],
      "execution_count": null
    },
    {
      "cell_type": "code",
      "metadata": {},
      "source": [
        "short_bvp_signal = bvp_signal[:2000]"
      ],
      "outputs": [],
      "execution_count": null
    },
    {
      "cell_type": "code",
      "metadata": {},
      "source": [
        "start_time = record.base_time"
      ],
      "outputs": [],
      "execution_count": null
    },
    {
      "cell_type": "code",
      "metadata": {},
      "source": [
        "pd_datetime = pd.to_datetime(arg=1, origin=start_time, unit=\"s\")"
      ],
      "outputs": [],
      "execution_count": null
    },
    {
      "cell_type": "code",
      "metadata": {},
      "source": [
        "import datetime\n",
        "from pandas.tseries.offsets import DateOffset"
      ],
      "outputs": [],
      "execution_count": null
    },
    {
      "cell_type": "code",
      "metadata": {},
      "source": [
        "dummy_date = datetime.date(\n",
        "    year=1970, month=1, day=1\n",
        ")  # I don't think the date was recorded originally\n",
        "start_datetime = datetime.datetime.combine(date=dummy_date, time=start_time)"
      ],
      "outputs": [],
      "execution_count": null
    },
    {
      "cell_type": "code",
      "metadata": {},
      "source": [
        "timestep_second = 1 / record.fs\n",
        "timestep_microsecond = int(timestep_second * 1e6)\n",
        "\n",
        "freq = DateOffset(microseconds=timestep_microsecond)\n",
        "\n",
        "index = pd.date_range(\n",
        "    start=start_datetime, periods=len(short_bvp_signal), freq=freq, name=\"time\"\n",
        ")"
      ],
      "outputs": [],
      "execution_count": null
    },
    {
      "cell_type": "code",
      "metadata": {},
      "source": [
        "short_bvp_signal_df = pd.DataFrame(\n",
        "    index=index, data=short_bvp_signal, columns=[\"physical_signal\"]\n",
        ")"
      ],
      "outputs": [],
      "execution_count": null
    },
    {
      "cell_type": "code",
      "metadata": {},
      "source": [
        "index = pd.date_range(\n",
        "    start=start_datetime, periods=len(bvp_signal), freq=freq, name=\"time\"\n",
        ")\n",
        "bvp_signal_df = pd.DataFrame(\n",
        "    index=index, data=bvp_signal, columns=[\"physical_signal\"]\n",
        ")"
      ],
      "outputs": [],
      "execution_count": null
    },
    {
      "cell_type": "code",
      "metadata": {},
      "source": [
        "plt.plot(short_bvp_signal_df)\n",
        "plt.ylim(0, 1)\n",
        "plt.show()"
      ],
      "outputs": [],
      "execution_count": null
    }
  ],
  "metadata": {
    "anaconda-cloud": {},
    "kernelspec": {
      "display_name": "Python 3",
      "language": "python",
      "name": "python3"
    },
    "language_info": {
      "codemirror_mode": {
        "name": "ipython",
        "version": 3
      },
      "file_extension": ".py",
      "mimetype": "text/x-python",
      "name": "python",
      "nbconvert_exporter": "python",
      "pygments_lexer": "ipython3",
      "version": "3.6.1"
    }
  },
  "nbformat": 4,
  "nbformat_minor": 4
}